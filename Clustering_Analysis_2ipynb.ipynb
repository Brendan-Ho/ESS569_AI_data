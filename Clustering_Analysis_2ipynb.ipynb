{
 "cells": [
  {
   "cell_type": "code",
   "execution_count": 1,
   "metadata": {},
   "outputs": [],
   "source": [
    "import os\n",
    "import subprocess\n",
    "import pandas as pd\n",
    "import numpy as np\n",
    "from sklearn.decomposition import PCA\n",
    "from sklearn.metrics import homogeneity_score, fowlkes_mallows_score\n",
    "import matplotlib.pyplot as plt\n",
    "from sklearn.preprocessing import StandardScaler\n",
    "from Bio import SeqIO, Entrez\n",
    "import gzip\n",
    "from sklearn.cluster import DBSCAN"
   ]
  },
  {
   "cell_type": "code",
   "execution_count": null,
   "metadata": {},
   "outputs": [],
   "source": [
    "# Load the CSV file into a DataFrame\n",
    "pfam_df_split = pd.read_csv(r'C:\\Users\\m1lfslay3r6000\\Music\\ESS_569_Project\\data\\pfam_df_split.csv')\n",
    "# Load the LCA file, assuming it's tab-delimited\n",
    "lca_file = r\"C:\\Users\\m1lfslay3r6000\\Music\\ESS_569_Project\\data\\raw\\NPac.G3PA_diel.MarFERReT_v1.1_MMDB.lca.tab.gz\"\n",
    "# Extract the unique target_name values from pfam_df_split\n",
    "target_names_pfam = pfam_df_split['target name'].unique()\n",
    "# Load the lca_df file, but only keep rows where the 'target_name' matches those in pfam_df_split\n",
    "lca_df_filtered = pd.read_csv(lca_file, delimiter=\"\\t\")\n",
    "\n",
    "# Rename the first column of lca_df to 'target_name' to match pfam_df_split\n",
    "lca_df_filtered.columns = ['target_name'] + list(lca_df_filtered.columns[1:])\n",
    "lca_df_filtered = lca_df_filtered[lca_df_filtered['target_name'].isin(target_names_pfam)]\n",
    "\n",
    "tax_id = lca_df_filtered.iloc[:, 1]"
   ]
  },
  {
   "cell_type": "code",
   "execution_count": 15,
   "metadata": {},
   "outputs": [],
   "source": [
    "# Always set your email when using Entrez\n",
    "Entrez.email = \"andcha1118@gmail.com\"\n",
    "# Fetch taxonomy names using Entrez\n",
    "def fetch_taxonomy_name(tax_id):\n",
    "    try:\n",
    "        # Make sure tax_id is a string\n",
    "        tax_id = str(tax_id)\n",
    "        handle = Entrez.efetch(db=\"taxonomy\", id=tax_id, retmode=\"xml\")\n",
    "        records = Entrez.read(handle)\n",
    "        handle.close()\n",
    "        # Return the name of the taxa\n",
    "        return records[0]['ScientificName']\n",
    "    except Exception as e:\n",
    "        print(f\"Error fetching taxonomy for ID {tax_id}: {e}\")\n",
    "        return None\n",
    "\n",
    "# Fetch taxonomy names and avoid duplicates\n",
    "taxonomy_names = {}\n",
    "for idx, row in lca_df_filtered.iterrows():  # Use lca_df instead of taxonomy_df\n",
    "    tax_id = row[1]  # The second column is tax_id, based on the previous steps\n",
    "    if tax_id != 0 and tax_id not in taxonomy_names:  # Skip tax_id 0 and duplicates\n",
    "        taxonomy_names[tax_id] = fetch_taxonomy_name(tax_id)\n",
    "# Create a new column 'taxonomy_name' in lca_df by matching tax_id with taxonomy_names\n",
    "lca_df_filtered['taxonomy_name'] = lca_df_filtered['0'].map(taxonomy_names)\n",
    "# Now, merge pfam_df_split with lca_df based on 'target_name' (from pfam_df_split) and the 'target_name' in lca_df\n",
    "merged_df = pd.merge(pfam_df_split, lca_df_filtered, left_on='target name', right_on='target_name', how='left')\n",
    "merged_df_clean = merged_df.dropna()"
   ]
  },
  {
   "cell_type": "code",
   "execution_count": 51,
   "metadata": {},
   "outputs": [],
   "source": [
    "# Load the selected_organism_labels.csv\n",
    "organism_labels_file = r\"C:\\Users\\m1lfslay3r6000\\Music\\ESS_569_Project\\data\\ai_ready\\organism_trophic_labels.csv\"  # Replace with actual path\n",
    "organism_labels_df = pd.read_csv(organism_labels_file)\n",
    "\n",
    "# Rename 'organism name' to 'taxonomy_name'\n",
    "organism_labels_df.rename(columns={'Organism Name': 'taxonomy_name'}, inplace=True)"
   ]
  },
  {
   "cell_type": "code",
   "execution_count": 52,
   "metadata": {},
   "outputs": [],
   "source": [
    "# Match the first word or first two words of taxonomy_name\n",
    "def match_taxonomy_name(taxonomy_name, organism_labels_df):\n",
    "    # Extract the first word or first two words\n",
    "    taxonomy_parts = taxonomy_name.split()\n",
    "    first_two_words = ' '.join(taxonomy_parts[:2])  # First two words\n",
    "    \n",
    "    # Find matching trophism mode\n",
    "    matched_rows = organism_labels_df[organism_labels_df['taxonomy_name'].str.contains(first_two_words, na=False)]\n",
    "    \n",
    "    return matched_rows['trophic_mode'].iloc[0] if not matched_rows.empty else None\n",
    "merged_df_clean.loc[:, 'taxonomy_name'] = merged_df_clean['taxonomy_name'].astype(str)\n",
    "merged_df_clean.loc['taxonomy_name_first_two'] = merged_df_clean['taxonomy_name'].apply(lambda x: ' '.join(x.split()[:2]))\n",
    "\n",
    "# Safely create 'taxonomy_name_first_two' column, handling NaN values\n",
    "merged_df_clean['taxonomy_name_first_two'] = merged_df_clean['taxonomy_name'].apply(\n",
    "    lambda x: ' '.join(x.split()[:2]) if isinstance(x, str) else None\n",
    ")"
   ]
  },
  {
   "cell_type": "code",
   "execution_count": 56,
   "metadata": {},
   "outputs": [
    {
     "name": "stderr",
     "output_type": "stream",
     "text": [
      "C:\\Users\\m1lfslay3r6000\\AppData\\Local\\Temp\\ipykernel_2784\\579878381.py:18: SettingWithCopyWarning: \n",
      "A value is trying to be set on a copy of a slice from a DataFrame.\n",
      "Try using .loc[row_indexer,col_indexer] = value instead\n",
      "\n",
      "See the caveats in the documentation: https://pandas.pydata.org/pandas-docs/stable/user_guide/indexing.html#returning-a-view-versus-a-copy\n",
      "  merged_df_clean.loc[index, 'Trophic Mode'] = None\n"
     ]
    }
   ],
   "source": [
    "# Iterate through merged_df_clean and fill 'Trophic Mode' based on matching 'taxonomy_name_first_two'\n",
    "for index, row in merged_df_clean.iterrows():\n",
    "    # Get the first two words from the 'taxonomy_name_first_two' column\n",
    "    tax_name_first_two = row['taxonomy_name_first_two']\n",
    "    \n",
    "    # Ensure tax_name_first_two is a string\n",
    "    if isinstance(tax_name_first_two, str) and tax_name_first_two:\n",
    "        # Search for the corresponding trophic_mode in organism_labels_df\n",
    "        matched_row = organism_labels_df[organism_labels_df['taxonomy_name'].str.contains(tax_name_first_two, na=False, case=False)]\n",
    "        \n",
    "        if not matched_row.empty:\n",
    "            # If there's a match, get the 'Trophic Mode' value\n",
    "            trophic_mode = matched_row['Trophic Mode'].iloc[0]\n",
    "            # Use loc to set the trophic_mode for the current row\n",
    "            merged_df_clean.loc[index, 'Trophic Mode'] = trophic_mode\n",
    "        else:\n",
    "            # If no match is found, set trophic_mode to None or a placeholder value\n",
    "            merged_df_clean.loc[index, 'Trophic Mode'] = None\n",
    "    else:\n",
    "        # If tax_name_first_two is not a valid string, handle the case\n",
    "        merged_df_clean.loc[index, 'Trophic Mode'] = None\n",
    "        \n"
   ]
  },
  {
   "cell_type": "markdown",
   "metadata": {},
   "source": [
    "# The problem area "
   ]
  },
  {
   "cell_type": "code",
   "execution_count": null,
   "metadata": {},
   "outputs": [],
   "source": [
    "# Drop unnecessary columns and keep only 'query_name', 'query_accession', and 'trophic_mode'\n",
    "merged_df_clean = merged_df_clean[['target_name', 'accession', 'Trophic Mode']]\n",
    "\n",
    "# Step 1: Preprocess the data\n",
    "# Select relevant numeric columns (modify based on your actual data)\n",
    "numeric_columns = ['target_name', 'accession', 'Trophic Mode']  # Replace with actual numeric columns\n",
    "numeric_data = merged_df_clean[numeric_columns]\n",
    "\n",
    "# Normalize the data\n",
    "scaler = StandardScaler()\n",
    "scaled_data = scaler.fit_transform(numeric_data)\n",
    "\n",
    "# Step 2: Run DBSCAN\n",
    "# Set DBSCAN parameters\n",
    "eps = 0.5  # Adjust as needed\n",
    "min_samples = 5  # Adjust as needed\n",
    "\n",
    "# Fit DBSCAN to the data\n",
    "dbscan = DBSCAN(eps=eps, min_samples=min_samples)\n",
    "merged_df_clean['DBSCAN_cluster'] = dbscan.fit_predict(scaled_data)"
   ]
  },
  {
   "cell_type": "code",
   "execution_count": null,
   "metadata": {},
   "outputs": [],
   "source": [
    "# Standardize the features before performing PCA\n",
    "scaler = StandardScaler()\n",
    "df_scaled = scaler.fit_transform(merged_df_clean)\n",
    "\n",
    "# Apply PCA to reduce the data to 2D for visualization\n",
    "pca = PCA(n_components=2)\n",
    "pca_result = pca.fit_transform(df_scaled)\n",
    "\n",
    "# Add PCA components to the dataframe for visualization\n",
    "merged_df_clean[\"pca1\"] = pca_result[:, 0]\n",
    "merged_df_clean[\"pca2\"] = pca_result[:, 1]\n",
    "plt.figure(figsize=(8, 6))\n",
    "plt.scatter(merged_df_clean[\"pca1\"], merged_df_clean[\"pca2\"], c=merged_df_clean[\"cluster_id\"], cmap=\"viridis\", alpha=0.5)\n",
    "plt.title(\"PCA Visualization of Clusters\")\n",
    "plt.xlabel(\"Principal Component 1\")\n",
    "plt.ylabel(\"Principal Component 2\")\n",
    "plt.colorbar(label=\"Cluster ID\")\n",
    "plt.show()\n",
    "\n",
    "# Calculate homogeneity and FMI if true labels are available\n",
    "homogeneity = homogeneity_score(merged_df_clean[\"true_label\"], merged_df_clean[\"cluster_id\"])\n",
    "print(f\"Homogeneity Score: {homogeneity}\")\n",
    "\n",
    "fmi = fowlkes_mallows_score(merged_df_clean[\"true_label\"], merged_df_clean[\"cluster_id\"])\n",
    "print(f\"Fowlkes-Mallows Index: {fmi}\")"
   ]
  }
 ],
 "metadata": {
  "kernelspec": {
   "display_name": "base",
   "language": "python",
   "name": "python3"
  },
  "language_info": {
   "codemirror_mode": {
    "name": "ipython",
    "version": 3
   },
   "file_extension": ".py",
   "mimetype": "text/x-python",
   "name": "python",
   "nbconvert_exporter": "python",
   "pygments_lexer": "ipython3",
   "version": "3.12.4"
  }
 },
 "nbformat": 4,
 "nbformat_minor": 2
}
