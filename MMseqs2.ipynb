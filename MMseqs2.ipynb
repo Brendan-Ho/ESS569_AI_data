{
 "cells": [
  {
   "cell_type": "code",
   "execution_count": 9,
   "metadata": {},
   "outputs": [],
   "source": [
    "import os\n",
    "import gzip\n",
    "import subprocess\n",
    "from Bio import SeqIO"
   ]
  },
  {
   "cell_type": "code",
   "execution_count": 10,
   "metadata": {},
   "outputs": [],
   "source": [
    "# Paths to input files\n",
    "nucleotide_sequences_path = r\"C:\\Users\\m1lfslay3r6000\\Music\\ESS_569_Project\\data\\raw\\NPac.G3PA.diel.bf100.id99.aa.best.kofam.incT30.csv.gz\"\n",
    "annotated_protein_ref_db_path = r\"C:\\Users\\m1lfslay3r6000\\Music\\ESS_569_Project\\data\\raw\\NPac.G3PA_diel.MarFERReT_v1.1_MMDB.lca.tab.gz\""
   ]
  },
  {
   "cell_type": "code",
   "execution_count": 11,
   "metadata": {},
   "outputs": [],
   "source": [
    "# Output directory for intermediate and result files\n",
    "output_dir = r\"C:\\Users\\m1lfslay3r6000\\Music\\ESS_569_Project\\data\\output\""
   ]
  },
  {
   "cell_type": "code",
   "execution_count": 12,
   "metadata": {},
   "outputs": [],
   "source": [
    "\n",
    "\n",
    "# MMseqs2 output paths\n",
    "query_db = os.path.join(output_dir, \"queryDB\")\n",
    "protein_ref_db = os.path.join(output_dir, \"proteinRefDB\")\n",
    "search_results = os.path.join(output_dir, \"searchResults\")\n",
    "classification_results = os.path.join(output_dir, \"classificationResults\")\n"
   ]
  },
  {
   "cell_type": "code",
   "execution_count": 21,
   "metadata": {},
   "outputs": [
    {
     "data": {
      "text/plain": [
       "CompletedProcess(args=['C:\\\\Users\\\\m1lfslay3r6000\\\\Music\\\\ESS_569_Project\\\\scripts\\\\mmseqs-win64\\\\mmseqs\\\\mmseqs.bat', 'createdb', 'C:\\\\Users\\\\m1lfslay3r6000\\\\Music\\\\ESS_569_Project\\\\data\\\\raw\\\\NPac.G3PA.diel.bf100.id99.aa.best.kofam.incT30.csv.gz', 'C:\\\\Users\\\\m1lfslay3r6000\\\\Music\\\\ESS_569_Project\\\\data\\\\output\\\\queryDB'], returncode=0)"
      ]
     },
     "execution_count": 21,
     "metadata": {},
     "output_type": "execute_result"
    }
   ],
   "source": [
    "# Full path to mmseqs executable\n",
    "mmseqs_executable = r\"C:\\Users\\m1lfslay3r6000\\Music\\ESS_569_Project\\scripts\\mmseqs-win64\\mmseqs\\mmseqs.bat\"\n",
    "\n",
    "# Convert nucleotide sequences to an MMseqs2 database\n",
    "subprocess.run([\n",
    "    mmseqs_executable, \"createdb\",\n",
    "    nucleotide_sequences_path, query_db\n",
    "], check=True)\n"
   ]
  },
  {
   "cell_type": "code",
   "execution_count": 22,
   "metadata": {},
   "outputs": [
    {
     "name": "stdout",
     "output_type": "stream",
     "text": [
      "Classification results not found at C:\\Users\\m1lfslay3r6000\\Music\\ESS_569_Project\\data\\output\\classificationResults.tsv\n"
     ]
    }
   ],
   "source": [
    "\n",
    "# Convert the annotated protein reference database to an MMseqs2 database\n",
    "subprocess.run([\n",
    "    mmseqs_executable, \"createdb\",\n",
    "    annotated_protein_ref_db_path, protein_ref_db\n",
    "], check=True)\n",
    "\n",
    "# Search the nucleotide sequences against the protein reference database\n",
    "subprocess.run([\n",
    "    mmseqs_executable, \"search\",\n",
    "    query_db, protein_ref_db, search_results, output_dir,\n",
    "    \"--threads\", \"4\"  # Adjust thread count based on your system\n",
    "], check=True)\n",
    "\n",
    "# Classify the sequences by trophic level based on reference annotations\n",
    "subprocess.run([\n",
    "    mmseqs_executable, \"convertalis\",\n",
    "    query_db, protein_ref_db, search_results, classification_results,\n",
    "    \"--format-output\", \"query,target,pident,lca\"  # Include LCA annotations\n",
    "], check=True)\n",
    "\n",
    "# Read and process classification results\n",
    "classification_output_path = f\"{classification_results}.tsv\"\n",
    "if os.path.exists(classification_output_path):\n",
    "    with open(classification_output_path, \"r\") as result_file:\n",
    "        for line in result_file:\n",
    "            print(line.strip())  # Process or save the results as needed\n",
    "else:\n",
    "    print(f\"Classification results not found at {classification_output_path}\")\n"
   ]
  }
 ],
 "metadata": {
  "kernelspec": {
   "display_name": "Python 3",
   "language": "python",
   "name": "python3"
  },
  "language_info": {
   "codemirror_mode": {
    "name": "ipython",
    "version": 3
   },
   "file_extension": ".py",
   "mimetype": "text/x-python",
   "name": "python",
   "nbconvert_exporter": "python",
   "pygments_lexer": "ipython3",
   "version": "3.12.6"
  }
 },
 "nbformat": 4,
 "nbformat_minor": 2
}
