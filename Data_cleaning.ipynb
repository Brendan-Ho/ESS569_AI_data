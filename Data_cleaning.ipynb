{
  "nbformat": 4,
  "nbformat_minor": 0,
  "metadata": {
    "colab": {
      "provenance": [],
      "authorship_tag": "ABX9TyPo/DpXh7+y4I126oPbwl6p",
      "include_colab_link": true
    },
    "kernelspec": {
      "name": "python3",
      "display_name": "Python 3"
    },
    "language_info": {
      "name": "python"
    }
  },
  "cells": [
    {
      "cell_type": "markdown",
      "metadata": {
        "id": "view-in-github",
        "colab_type": "text"
      },
      "source": [
        "<a href=\"https://colab.research.google.com/github/Brendan-Ho/ESS569_AI_data/blob/main/Data_cleaning.ipynb\" target=\"_parent\"><img src=\"https://colab.research.google.com/assets/colab-badge.svg\" alt=\"Open In Colab\"/></a>"
      ]
    },
    {
      "cell_type": "code",
      "execution_count": null,
      "metadata": {
        "id": "YSak-9zV6tMo"
      },
      "outputs": [],
      "source": [
        "import pandas as pd\n",
        "import os\n",
        "\n",
        "# Set the paths to the raw files\n",
        "dna_sequences_path = r'C:\\Users\\m1lfslay3r6000\\Downloads\\RDPClassifier_16S_trainsetNo19_QiimeFormat\\dna_sequences.txt'\n",
        "otu_sequences_path = r'C:\\Users\\m1lfslay3r6000\\Downloads\\RDPClassifier_16S_trainsetNo19_QiimeFormat\\otu_sequences.fa'\n",
        "\n",
        "# Create directory for cleaned data if it doesn't exist\n",
        "cleaned_data_dir = os.path.join('data', 'clean')\n",
        "os.makedirs(cleaned_data_dir, exist_ok=True)\n",
        "\n",
        "# Load the text and FASTA files (example for the text file)\n",
        "# For demonstration, let's assume it's a tab-delimited file\n",
        "dna_data = pd.read_csv(dna_sequences_path, sep='\\t')\n",
        "\n",
        "# Step 1: Handling missing values\n",
        "# You can choose to drop rows or fill missing values with some logic\n",
        "dna_data.dropna(inplace=True)  # Example: Drop rows with missing data\n",
        "\n",
        "# Step 2: Handling outliers (example for numeric data)\n",
        "# Assume we have a numerical column to filter outliers\n",
        "numeric_cols = ['Sequence_Length']  # Example of a column\n",
        "for col in numeric_cols:\n",
        "    # Remove outliers using standard deviation (or other methods)\n",
        "    dna_data = dna_data[(dna_data[col] > dna_data[col].mean() - 3 * dna_data[col].std()) &\n",
        "                        (dna_data[col] < dna_data[col].mean() + 3 * dna_data[col].std())]\n",
        "\n",
        "# Step 3: Ensuring data consistency (uniform formatting)\n",
        "# Example: Convert all sequences to uppercase for consistency\n",
        "dna_data['DNA_Sequence'] = dna_data['DNA_Sequence'].str.upper()\n",
        "\n",
        "# Save the cleaned data to a new file\n",
        "cleaned_dna_sequences_path = os.path.join(cleaned_data_dir, 'cleaned_dna_sequences.csv')\n",
        "dna_data.to_csv(cleaned_dna_sequences_path, index=False)\n",
        "\n",
        "print(f\"Cleaned data saved to: {cleaned_dna_sequences_path}\")\n"
      ]
    }
  ]
}