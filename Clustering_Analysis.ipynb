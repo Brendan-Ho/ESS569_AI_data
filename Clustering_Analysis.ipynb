{
 "cells": [
  {
   "cell_type": "markdown",
   "metadata": {},
   "source": [
    "# For clustering of protein sequences and the following analysis"
   ]
  },
  {
   "cell_type": "code",
   "execution_count": 1,
   "metadata": {},
   "outputs": [],
   "source": [
    "import os\n",
    "import subprocess\n",
    "import pandas as pd\n",
    "import numpy as np\n",
    "from sklearn.decomposition import PCA\n",
    "from sklearn.metrics import homogeneity_score, fowlkes_mallows_score\n",
    "import matplotlib.pyplot as plt\n",
    "from sklearn.preprocessing import StandardScaler\n",
    "from Bio import SeqIO, Entrez\n",
    "import gzip\n",
    "from sklearn.cluster import DBSCAN"
   ]
  },
  {
   "cell_type": "code",
   "execution_count": 2,
   "metadata": {},
   "outputs": [],
   "source": [
    "def read_fasta(file_path):\n",
    "    \"\"\"Reads a FASTA file and returns protein sequences and labels.\"\"\"\n",
    "    sequences = []\n",
    "    labels = []\n",
    "    \n",
    "    # Replace this with your logic to assign labels based on your dataset\n",
    "    for record in SeqIO.parse(file_path, \"fasta\"):\n",
    "        sequences.append(str(record.seq))\n",
    "        \n",
    "        # Example: Assigning labels based on some logic (modify as needed)\n",
    "        label = get_tropism_label(record.id)  # This should return the correct label\n",
    "        labels.append(label)\n",
    "    \n",
    "    return sequences, labels\n",
    "\n",
    "def get_tropism_label(record_id):\n",
    "    \"\"\"Assign tropism labels based on sequence ID or other logic.\"\"\"\n",
    "    # Example of how you might determine a label from the sequence ID\n",
    "    # Modify according to your specific dataset and labeling method\n",
    "    if \"TrophismTypeA\" in record_id:\n",
    "        return 0\n",
    "    elif \"TrophismTypeB\" in record_id:\n",
    "        return 1\n",
    "    else:\n",
    "        return 2  # Default case, adjust as needed"
   ]
  },
  {
   "cell_type": "code",
   "execution_count": 3,
   "metadata": {},
   "outputs": [
    {
     "name": "stdout",
     "output_type": "stream",
     "text": [
      "0 #                                                                                                      --- full sequence --- -------------- this domain -------------   hmm coord   ali coord   env coord\n",
      "1  # target name                                 ...                                                                                                                                                       \n",
      "2  #                          -------------------...                                                                                                                                                       \n",
      "3  G3PA.diel.S4C7.B_TRINITY_DN22282_c0_g5_i1_1   ...                                                                                                                                                       \n",
      "4  G3PA.diel.S4C7.B_TRINITY_DN22282_c0_g5_i1_1   ...                                                                                                                                                       \n",
      "5  G3PA.diel.S4C23.C_TRINITY_DN866381_c0_g1_i3_2 ...                                                                                                                                                       \n"
     ]
    }
   ],
   "source": [
    "# Load the domblout.tab file (Pfam data)\n",
    "pfam_file = r\"C:\\Users\\m1lfslay3r6000\\Music\\ESS_569_Project\\data\\raw\\G3PA_diel.Pfam35.domtblout.tab.gz\"\n",
    "pfam_df = pd.read_csv(pfam_file, sep='\\t', compression='gzip', header=None)\n",
    "# Set the first row as the header\n",
    "pfam_df.columns = pfam_df.iloc[0]  # Set first row as column names\n",
    "pfam_df = pfam_df.drop(0)  # Drop the first row as it's now the header\n",
    "pfam_df_subset = pfam_df.iloc[:1000]\n",
    "print(pfam_df_subset.head())  # Check the first few rows of the subset"
   ]
  },
  {
   "cell_type": "code",
   "execution_count": 4,
   "metadata": {},
   "outputs": [
    {
     "data": {
      "text/plain": [
       "'name'"
      ]
     },
     "execution_count": 4,
     "metadata": {},
     "output_type": "execute_result"
    }
   ],
   "source": [
    "# Split the first row to extract column names\n",
    "column_names = pfam_df_subset.iloc[0, 0].split()  # Split the header by spaces\n",
    "# Combine 'target' and 'name' (columns 0 and 1)\n",
    "column_names[1] = column_names[1] + ' ' + column_names[2]  # Combine the first and second columns\n",
    "column_names.pop(2)  # Remove the second part since it's now combined with the first\n",
    "\n",
    "# Combine columns 12, 13, and 14 into one column\n",
    "column_names[11] = column_names[11] + ' ' + column_names[12] + ' ' + column_names[13]\n",
    "\n",
    "column_names.pop(12)  # Remove the second part of the combination\n",
    "\n",
    "column_names.pop(12)  # Remove the third part of the combination since they are now combined\n",
    "\n",
    "# Combine columns 22, 23, and 24 into one column\n",
    "column_names[22] = column_names[22] + ' ' + column_names[23] + ' ' + column_names[24]\n",
    "\n",
    "\n",
    "# Remove the second and third parts (original columns 22 and 23)\n",
    "column_names.pop(23)  # Remove the second part of the combination\n",
    "column_names.pop(23)  # Remove the third part of the combination (same index after the previous pop)\n",
    "\n",
    "# Now column_names has the updated column names\n",
    "\n",
    "column_names.pop(0)\n",
    "\n",
    "column_names.pop(1)\n",
    "column_names[2] = column_names[2] + ' ' + column_names[3] \n",
    "column_names.pop(3)\n",
    "# Step 1: Remove the first and second rows\n",
    "pfam_df_subset = pfam_df_subset.drop([1, 2])\n",
    "pfam_df_subset = pfam_df_subset.reset_index(drop=True)\n",
    "pfam_df_split = pfam_df_subset.iloc[:, 0].str.split(expand=True)\n",
    "# Combine the second and third rows\n",
    "pfam_df_split.iloc[:, 1] = pfam_df_split.iloc[:, 1] + ' ' + pfam_df_split.iloc[:, 2]\n",
    "\n",
    "# Drop the third column (index 2) after combining columns\n",
    "pfam_df_split = pfam_df_split.drop(pfam_df_split.columns[2], axis=1)\n",
    "pfam_df_split.pop(9)\n",
    "pfam_df_split.pop(10)\n",
    "pfam_df_split = pfam_df_split.reset_index(drop=True)\n",
    "# Set the updated column names\n",
    "pfam_df_split.columns = column_names\n",
    "pfam_df_split.to_csv(r'C:\\Users\\m1lfslay3r6000\\Music\\ESS_569_Project\\data\\pfam_df_split.csv', index=False)"
   ]
  }
 ],
 "metadata": {
  "kernelspec": {
   "display_name": "Python 3",
   "language": "python",
   "name": "python3"
  },
  "language_info": {
   "codemirror_mode": {
    "name": "ipython",
    "version": 3
   },
   "file_extension": ".py",
   "mimetype": "text/x-python",
   "name": "python",
   "nbconvert_exporter": "python",
   "pygments_lexer": "ipython3",
   "version": "3.12.6"
  }
 },
 "nbformat": 4,
 "nbformat_minor": 2
}
