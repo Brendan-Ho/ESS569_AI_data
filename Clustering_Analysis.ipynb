{
 "cells": [
  {
   "cell_type": "markdown",
   "metadata": {},
   "source": [
    "# For clustering of protein sequences and the following analysis"
   ]
  },
  {
   "cell_type": "code",
   "execution_count": 1,
   "metadata": {},
   "outputs": [],
   "source": [
    "import os\n",
    "import subprocess\n",
    "import pandas as pd\n",
    "import numpy as np\n",
    "from sklearn.decomposition import PCA\n",
    "from sklearn.metrics import homogeneity_score, fowlkes_mallows_score\n",
    "import matplotlib.pyplot as plt\n",
    "from sklearn.preprocessing import StandardScaler\n",
    "from Bio import SeqIO, Entrez\n",
    "import gzip\n",
    "from sklearn.cluster import DBSCAN"
   ]
  },
  {
   "cell_type": "code",
   "execution_count": 2,
   "metadata": {},
   "outputs": [],
   "source": [
    "def read_fasta(file_path):\n",
    "    \"\"\"Reads a FASTA file and returns protein sequences and labels.\"\"\"\n",
    "    sequences = []\n",
    "    labels = []\n",
    "    \n",
    "    # Replace this with your logic to assign labels based on your dataset\n",
    "    for record in SeqIO.parse(file_path, \"fasta\"):\n",
    "        sequences.append(str(record.seq))\n",
    "        \n",
    "        # Example: Assigning labels based on some logic (modify as needed)\n",
    "        label = get_tropism_label(record.id)  # This should return the correct label\n",
    "        labels.append(label)\n",
    "    \n",
    "    return sequences, labels\n",
    "\n",
    "def get_tropism_label(record_id):\n",
    "    \"\"\"Assign tropism labels based on sequence ID or other logic.\"\"\"\n",
    "    # Example of how you might determine a label from the sequence ID\n",
    "    # Modify according to your specific dataset and labeling method\n",
    "    if \"TrophismTypeA\" in record_id:\n",
    "        return 0\n",
    "    elif \"TrophismTypeB\" in record_id:\n",
    "        return 1\n",
    "    else:\n",
    "        return 2  # Default case, adjust as needed"
   ]
  },
  {
   "cell_type": "code",
   "execution_count": null,
   "metadata": {},
   "outputs": [
    {
     "name": "stdout",
     "output_type": "stream",
     "text": [
      "0 #                                                                                                      --- full sequence --- -------------- this domain -------------   hmm coord   ali coord   env coord\n",
      "1  # target name                                 ...                                                                                                                                                       \n",
      "2  #                          -------------------...                                                                                                                                                       \n",
      "3  G3PA.diel.S4C7.B_TRINITY_DN22282_c0_g5_i1_1   ...                                                                                                                                                       \n"
     ]
    }
   ],
   "source": [
    "# Load the domblout.tab file (Pfam data)\n",
    "pfam_file = r\"C:\\Users\\m1lfslay3r6000\\Music\\ESS_569_Project\\data\\raw\\G3PA_diel.Pfam35.domtblout.tab.gz\"\n",
    "pfam_df = pd.read_csv(pfam_file, sep='\\t', compression='gzip', header=None)\n",
    "# Set the first row as the header\n",
    "pfam_df.columns = pfam_df.iloc[0]  # Set first row as column names\n",
    "pfam_df = pfam_df.drop(0)  # Drop the first row as it's now the header\n",
    "print(pfam_df.head(3))"
   ]
  },
  {
   "cell_type": "code",
   "execution_count": null,
   "metadata": {},
   "outputs": [],
   "source": [
    "# Now you should have a proper DataFrame with columns separated\n",
    "# Extract the 'target_name' and 'query_accession' columns by their names\n",
    "target_name_column = pfam_df[\"target name\"]\n",
    "query_accession_column = pfam_df[\"query accession\"]\n",
    "\n",
    "# Display the extracted columns\n",
    "print(target_name_column.head())\n",
    "print(query_accession_column.head())"
   ]
  },
  {
   "cell_type": "code",
   "execution_count": null,
   "metadata": {},
   "outputs": [],
   "source": [
    "pfam_df = pfam_df.iloc[:, [0, 1]]  # Select only the first two columns (target_name and query-accession)\n",
    "pfam_df.columns = ['target_name', 'query_accession']  # Rename for clarity"
   ]
  },
  {
   "cell_type": "code",
   "execution_count": null,
   "metadata": {},
   "outputs": [],
   "source": [
    "# Load the taxonomy file (Assuming the file is in a similar format)\n",
    "taxonomy_file = r\"C:\\Users\\m1lfslay3r6000\\Music\\ESS_569_Project\\data\\raw\\NPac.G3PA_diel.bf100.id99.aa.fasta.gz\"\n",
    "taxonomy_df = pd.read_csv(taxonomy_file, sep='\\t')  # Adjust separator if needed\n",
    "taxonomy_df = taxonomy_df[['query_name', 'tax_id']]  # Only keep query_name and tax_id columns\n",
    "\n",
    "# Fetch taxonomy names using Entrez\n",
    "def fetch_taxonomy_name(tax_id):\n",
    "    try:\n",
    "        # Make sure tax_id is a string\n",
    "        tax_id = str(tax_id)\n",
    "        handle = Entrez.efetch(db=\"taxonomy\", id=tax_id, retmode=\"xml\")\n",
    "        records = Entrez.read(handle)\n",
    "        handle.close()\n",
    "        # Return the name of the taxa\n",
    "        return records[0]['ScientificName']\n",
    "    except Exception as e:\n",
    "        print(f\"Error fetching taxonomy for ID {tax_id}: {e}\")\n",
    "        return None\n",
    "\n",
    "# Fetch taxonomy names and avoid duplicates\n",
    "taxonomy_names = {}\n",
    "for idx, row in taxonomy_df.iterrows():\n",
    "    tax_id = row['tax_id']\n",
    "    if tax_id != 0 and tax_id not in taxonomy_names:  # Skip tax_id 0 and duplicates\n",
    "        taxonomy_names[tax_id] = fetch_taxonomy_name(tax_id)\n",
    "\n",
    "# Add taxonomy names to the taxonomy_df\n",
    "taxonomy_df['taxonomy_name'] = taxonomy_df['tax_id'].map(taxonomy_names)\n",
    "\n",
    "# Merge pfam_df with taxonomy_df based on query_name\n",
    "merged_df = pd.merge(pfam_df, taxonomy_df[['query_name', 'taxonomy_name']], on='target_name', how='left')\n",
    "\n",
    "# Load the selected_organism_labels.csv\n",
    "organism_labels_file = \"path_to_selected_organism_labels.csv\"  # Replace with actual path\n",
    "organism_labels_df = pd.read_csv(organism_labels_file)\n",
    "\n",
    "# Rename 'organism name' to 'taxonomy_name'\n",
    "organism_labels_df.rename(columns={'organism name': 'taxonomy_name'}, inplace=True)\n",
    "\n",
    "# Match the first word or first two words of taxonomy_name\n",
    "def match_taxonomy_name(taxonomy_name, trophism_df):\n",
    "    # Extract the first word or first two words\n",
    "    taxonomy_parts = taxonomy_name.split()\n",
    "    first_two_words = ' '.join(taxonomy_parts[:2])\n",
    "    \n",
    "    # Find matching trophism mode\n",
    "    matched_rows = trophism_df[trophism_df['taxonomy_name'].str.contains(first_two_words, na=False)]\n",
    "    \n",
    "    return matched_rows['trophic_mode'].iloc[0] if not matched_rows.empty else None\n",
    "\n",
    "# Assign trophism modes based on the matching taxonomy_name\n",
    "merged_df['trophic_mode'] = merged_df['taxonomy_name'].apply(lambda x: match_taxonomy_name(x, organism_labels_df))\n",
    "\n",
    "# Drop unnecessary columns and keep only 'query_name', 'query_accession', and 'trophic_mode'\n",
    "merged_df = merged_df[['target_name', 'query_accession', 'trophic_mode']]\n",
    "\n",
    "# Optionally, sample the data to reduce memory load while maintaining the same distribution of trophic modes\n",
    "sampled_df = merged_df.groupby('trophic_mode', group_keys=False).apply(lambda x: x.sample(frac=0.1))  # Adjust fraction as needed\n",
    "\n",
    "# Run DBSCAN (Ensure you have the necessary features for clustering)\n",
    "\n",
    "# Standardize features for clustering\n",
    "scaler = StandardScaler()\n",
    "scaled_df = scaler.fit_transform(sampled_df[['query_accession']])  # Adjust columns for clustering if necessary\n",
    "\n",
    "# Perform DBSCAN clustering\n",
    "db = DBSCAN(eps=0.5, min_samples=5).fit(scaled_df)\n",
    "\n",
    "# Add cluster labels to the dataframe\n",
    "sampled_df['cluster'] = db.labels_\n",
    "\n",
    "# Analyze the clusters (for example, top 10 most abundant pfam ids per cluster)\n",
    "cluster_summary = sampled_df.groupby('cluster')['trophic_mode'].value_counts().nlargest(10)\n",
    "\n",
    "# Display or save the results\n",
    "sampled_df.to_csv('clustered_output.csv', index=False)\n",
    "print(\"Clustering completed and saved.\")\n"
   ]
  },
  {
   "cell_type": "markdown",
   "metadata": {},
   "source": [
    "## Step 5: Visualize the clusters using PCA"
   ]
  },
  {
   "cell_type": "code",
   "execution_count": null,
   "metadata": {},
   "outputs": [],
   "source": [
    "# Standardize the features before performing PCA\n",
    "scaler = StandardScaler()\n",
    "df_scaled = scaler.fit_transform(merged_df)\n",
    "\n",
    "# Apply PCA to reduce the data to 2D for visualization\n",
    "pca = PCA(n_components=2)\n",
    "pca_result = pca.fit_transform(df_scaled)\n",
    "\n",
    "# Add PCA components to the dataframe for visualization\n",
    "merged_df[\"pca1\"] = pca_result[:, 0]\n",
    "merged_df[\"pca2\"] = pca_result[:, 1]"
   ]
  },
  {
   "cell_type": "code",
   "execution_count": null,
   "metadata": {},
   "outputs": [],
   "source": [
    "plt.figure(figsize=(8, 6))\n",
    "plt.scatter(merged_df[\"pca1\"], merged_df[\"pca2\"], c=merged_df[\"cluster_id\"], cmap=\"viridis\", alpha=0.5)\n",
    "plt.title(\"PCA Visualization of Clusters\")\n",
    "plt.xlabel(\"Principal Component 1\")\n",
    "plt.ylabel(\"Principal Component 2\")\n",
    "plt.colorbar(label=\"Cluster ID\")\n",
    "plt.show()"
   ]
  },
  {
   "cell_type": "markdown",
   "metadata": {},
   "source": [
    "## Step 6: Evaluate Clustering (using homogeneity and Fowlkes-Mallows Index)"
   ]
  },
  {
   "cell_type": "code",
   "execution_count": null,
   "metadata": {},
   "outputs": [],
   "source": [
    "# Calculate homogeneity and FMI if true labels are available\n",
    "homogeneity = homogeneity_score(merged_df[\"true_label\"], merged_df[\"cluster_id\"])\n",
    "print(f\"Homogeneity Score: {homogeneity}\")\n",
    "\n",
    "fmi = fowlkes_mallows_score(merged_df[\"true_label\"], merged_df[\"cluster_id\"])\n",
    "print(f\"Fowlkes-Mallows Index: {fmi}\")"
   ]
  }
 ],
 "metadata": {
  "kernelspec": {
   "display_name": "Python 3",
   "language": "python",
   "name": "python3"
  },
  "language_info": {
   "codemirror_mode": {
    "name": "ipython",
    "version": 3
   },
   "file_extension": ".py",
   "mimetype": "text/x-python",
   "name": "python",
   "nbconvert_exporter": "python",
   "pygments_lexer": "ipython3",
   "version": "3.12.6"
  }
 },
 "nbformat": 4,
 "nbformat_minor": 2
}
