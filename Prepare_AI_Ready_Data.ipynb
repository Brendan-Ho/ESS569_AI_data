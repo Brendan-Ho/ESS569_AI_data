{
  "nbformat": 4,
  "nbformat_minor": 0,
  "metadata": {
    "colab": {
      "provenance": [],
      "authorship_tag": "ABX9TyPdUuuLcAWhdVIuMCUeI6pf",
      "include_colab_link": true
    },
    "kernelspec": {
      "name": "python3",
      "display_name": "Python 3"
    },
    "language_info": {
      "name": "python"
    }
  },
  "cells": [
    {
      "cell_type": "markdown",
      "metadata": {
        "id": "view-in-github",
        "colab_type": "text"
      },
      "source": [
        "<a href=\"https://colab.research.google.com/github/Brendan-Ho/ESS569_AI_data/blob/main/Prepare_AI_Ready_Data.ipynb\" target=\"_parent\"><img src=\"https://colab.research.google.com/assets/colab-badge.svg\" alt=\"Open In Colab\"/></a>"
      ]
    },
    {
      "cell_type": "code",
      "execution_count": null,
      "metadata": {
        "id": "4jsAN6oq7xdw"
      },
      "outputs": [],
      "source": [
        "import pandas as pd\n",
        "import numpy as np\n",
        "import os\n",
        "\n",
        "# Set paths to the cleaned data\n",
        "cleaned_data_path = r'data/clean/cleaned_dna_sequences.csv'\n",
        "\n",
        "# Load the cleaned data\n",
        "dna_data = pd.read_csv(cleaned_data_path)\n",
        "\n",
        "# Step 1: Organize data into AI-ready format\n",
        "# In this example, we'll assume that 'DNA_Sequence' is a feature and 'Label' is the target\n",
        "# Convert sequences into numerical features for machine learning (e.g., one-hot encoding, k-mer count)\n",
        "def sequence_to_features(seq):\n",
        "    # Example: Simple nucleotide one-hot encoding (A, C, G, T)\n",
        "    one_hot_map = {'A': [1, 0, 0, 0], 'C': [0, 1, 0, 0], 'G': [0, 0, 1, 0], 'T': [0, 0, 0, 1]}\n",
        "    return np.array([one_hot_map.get(nucleotide, [0, 0, 0, 0]) for nucleotide in seq]).flatten()\n",
        "\n",
        "# Apply the conversion to the DNA sequences\n",
        "dna_data['Features'] = dna_data['DNA_Sequence'].apply(sequence_to_features)\n",
        "\n",
        "# Step 2: Prepare final DataFrame for ML\n",
        "# Example: Split 'Features' and 'Labels' for machine learning\n",
        "X = np.vstack(dna_data['Features'].values)\n",
        "y = dna_data['Label'].values  # Assuming 'Label' column has the classification\n",
        "\n",
        "# Save the AI-ready data in a folder\n",
        "ai_ready_data_dir = os.path.join('data', 'ai_ready')\n",
        "os.makedirs(ai_ready_data_dir, exist_ok=True)\n",
        "\n",
        "# Save X (features) and y (labels) as separate files or in a single CSV\n",
        "ai_ready_path = os.path.join(ai_ready_data_dir, 'ai_ready_data.npz')\n",
        "np.savez(ai_ready_path, X=X, y=y)\n",
        "\n",
        "print(f\"AI-ready data saved to: {ai_ready_path}\")\n"
      ]
    }
  ]
}