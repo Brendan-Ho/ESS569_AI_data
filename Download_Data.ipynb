{
  "nbformat": 4,
  "nbformat_minor": 0,
  "metadata": {
    "colab": {
      "provenance": [],
      "authorship_tag": "ABX9TyPRHDZFXFLUU34qqYxGk/Lg",
      "include_colab_link": true
    },
    "kernelspec": {
      "name": "python3",
      "display_name": "Python 3"
    },
    "language_info": {
      "name": "python"
    }
  },
  "cells": [
    {
      "cell_type": "markdown",
      "metadata": {
        "id": "view-in-github",
        "colab_type": "text"
      },
      "source": [
        "<a href=\"https://colab.research.google.com/github/Brendan-Ho/ESS569_AI_data/blob/main/Download_Data.ipynb\" target=\"_parent\"><img src=\"https://colab.research.google.com/assets/colab-badge.svg\" alt=\"Open In Colab\"/></a>"
      ]
    },
    {
      "cell_type": "code",
      "execution_count": null,
      "metadata": {
        "id": "3avgN4seDDld"
      },
      "outputs": [],
      "source": [
        "import requests\n",
        "\n",
        "# Replace with actual API endpoint and API key\n",
        "api_url = \"https://opendata.lifebit.ai/api/v1/datasets\"\n",
        "headers = {\n",
        "    \"Authorization\": \"Bearer YOUR_API_KEY\",\n",
        "    \"Content-Type\": \"application/json\"\n",
        "}\n",
        "params = {\n",
        "    \"search\": \"assigned species: Staphylococcus aureus\"\n",
        "}\n",
        "\n",
        "# Make request\n",
        "response = requests.get(api_url, headers=headers, params=params)\n",
        "\n",
        "if response.status_code == 200:\n",
        "    data = response.json()\n",
        "    print(\"Data:\", data)\n",
        "else:\n",
        "    print(\"Failed to retrieve data:\", response.status_code, response.text)\n"
      ]
    }
  ]
}