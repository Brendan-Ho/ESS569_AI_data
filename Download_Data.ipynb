{
  "cells": [
    {
      "cell_type": "markdown",
      "metadata": {
        "colab_type": "text",
        "id": "view-in-github"
      },
      "source": [
        "<a href=\"https://colab.research.google.com/github/Brendan-Ho/ESS569_AI_data/blob/main/Download_Data.ipynb\" target=\"_parent\"><img src=\"https://colab.research.google.com/assets/colab-badge.svg\" alt=\"Open In Colab\"/></a>"
      ]
    },
    {
      "cell_type": "code",
      "execution_count": 1,
      "metadata": {
        "id": "3avgN4seDDld"
      },
      "outputs": [
        {
          "ename": "ModuleNotFoundError",
          "evalue": "No module named 'requests'",
          "output_type": "error",
          "traceback": [
            "\u001b[1;31m---------------------------------------------------------------------------\u001b[0m",
            "\u001b[1;31mModuleNotFoundError\u001b[0m                       Traceback (most recent call last)",
            "Cell \u001b[1;32mIn[1], line 1\u001b[0m\n\u001b[1;32m----> 1\u001b[0m \u001b[38;5;28;01mimport\u001b[39;00m \u001b[38;5;21;01mrequests\u001b[39;00m\n\u001b[0;32m      3\u001b[0m \u001b[38;5;66;03m# Replace with actual API endpoint and API key\u001b[39;00m\n\u001b[0;32m      4\u001b[0m api_url \u001b[38;5;241m=\u001b[39m \u001b[38;5;124m\"\u001b[39m\u001b[38;5;124mhttps://opendata.lifebit.ai/api/v1/datasets\u001b[39m\u001b[38;5;124m\"\u001b[39m\n",
            "\u001b[1;31mModuleNotFoundError\u001b[0m: No module named 'requests'"
          ]
        }
      ],
      "source": [
        "import requests\n",
        "\n",
        "# Replace with actual API endpoint and API key\n",
        "api_url = \"https://opendata.lifebit.ai/api/v1/datasets\"\n",
        "headers = {\n",
        "    \"Authorization\": \"Bearer YOUR_API_KEY\",\n",
        "    \"Content-Type\": \"application/json\"\n",
        "}\n",
        "params = {\n",
        "    \"search\": \"assigned species: Staphylococcus aureus\"\n",
        "}\n",
        "\n",
        "# Make request\n",
        "response = requests.get(api_url, headers=headers, params=params)\n",
        "\n",
        "if response.status_code == 200:\n",
        "    data = response.json()\n",
        "    print(\"Data:\", data)\n",
        "else:\n",
        "    print(\"Failed to retrieve data:\", response.status_code, response.text)\n"
      ]
    }
  ],
  "metadata": {
    "colab": {
      "authorship_tag": "ABX9TyPRHDZFXFLUU34qqYxGk/Lg",
      "include_colab_link": true,
      "provenance": []
    },
    "kernelspec": {
      "display_name": "Python 3",
      "name": "python3"
    },
    "language_info": {
      "codemirror_mode": {
        "name": "ipython",
        "version": 3
      },
      "file_extension": ".py",
      "mimetype": "text/x-python",
      "name": "python",
      "nbconvert_exporter": "python",
      "pygments_lexer": "ipython3",
      "version": "3.11.9"
    }
  },
  "nbformat": 4,
  "nbformat_minor": 0
}
